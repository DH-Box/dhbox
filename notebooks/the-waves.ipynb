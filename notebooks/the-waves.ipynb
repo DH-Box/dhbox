{
 "metadata": {
  "name": ""
 },
 "nbformat": 3,
 "nbformat_minor": 0,
 "worksheets": [
  {
   "cells": [
    {
     "cell_type": "code",
     "collapsed": false,
     "input": [
      "from __future__ import division\n",
      "import nltk, re, pprint"
     ],
     "language": "python",
     "metadata": {},
     "outputs": [],
     "prompt_number": 1
    },
    {
     "cell_type": "markdown",
     "metadata": {},
     "source": [
      "Let's open our copy of *The Waves*, by Virginia Woolf."
     ]
    },
    {
     "cell_type": "code",
     "collapsed": false,
     "input": [
      "f=open('the-waves.txt','rU')\n",
      "raw=f.read()\n",
      "tokens = nltk.word_tokenize(raw)\n",
      "text = nltk.Text(tokens)"
     ],
     "language": "python",
     "metadata": {},
     "outputs": [],
     "prompt_number": 2
    },
    {
     "cell_type": "markdown",
     "metadata": {},
     "source": [
      "Try a concordance!"
     ]
    },
    {
     "cell_type": "code",
     "collapsed": false,
     "input": [
      "text.concordance('friend')"
     ],
     "language": "python",
     "metadata": {},
     "outputs": [
      {
       "output_type": "stream",
       "stream": "stdout",
       "text": [
        "Building index...\n",
        "Displaying 7 of 7 matches:"
       ]
      },
      {
       "output_type": "stream",
       "stream": "stdout",
       "text": [
        "\n",
        " Wickham 's door I think myself the friend of Richelieu , or the Duke of St Si\n",
        "lit rooms , with many books and one friend , while I tilt on an office chair b\n",
        "to the lady in ear-rings ; is she a friend or a customer ? I feel at once , as\n",
        "ly to the kindness of his father 's friend , his host , that he can scarcely e\n",
        "ut the unhappiness of their dearest friend perhaps. `` Ah , but the state of m\n",
        " sought Neville. I sought my oldest friend , who had known me when I was Byron\n",
        "r one can not cross London to see a friend , life being so full of engagements\n"
       ]
      }
     ],
     "prompt_number": 3
    },
    {
     "cell_type": "code",
     "collapsed": false,
     "input": [
      "fdist = nltk.FreqDist(text)\n",
      "vocabulary1 = fdist.keys()\n",
      "print vocabulary1[:50]"
     ],
     "language": "python",
     "metadata": {},
     "outputs": [
      {
       "output_type": "stream",
       "stream": "stdout",
       "text": [
        "[',', 'the', 'and', 'I', 'of', 'a', 'to', 'in', ';', 'is', 'my', 'with', 'that', 'on', 'not', 'are', 'as', 'we', 'The', 'have', 'it', '--', 'at', 'one', 'like', 'am', 'this', 'for', 'me', 'be', 'said', 'his', 'will', \"'\", '?', 'from', 'they', 'by', 'their', 'you', 'he', 'was', \"''\", 'all', 'now', '``', 'or', 'has', 'some', 'our']\n"
       ]
      }
     ],
     "prompt_number": 4
    },
    {
     "cell_type": "code",
     "collapsed": false,
     "input": [
      "fdist.plot(50, cumulative=True)"
     ],
     "language": "python",
     "metadata": {},
     "outputs": [],
     "prompt_number": "*"
    },
    {
     "cell_type": "code",
     "collapsed": false,
     "input": [
      "!grep 'said Bernard' the-waves.txt > bernard.txt\n",
      "!grep 'said Jinny' the-waves.txt > jinny.txt\n",
      "!grep 'said Louis' the-waves.txt > louis.txt\n",
      "!grep 'said Neville' the-waves.txt > neville.txt\n",
      "!grep 'said Rhoda' the-waves.txt > rhoda.txt\n",
      "!grep 'said Susan' the-waves.txt > susan.txt"
     ],
     "language": "python",
     "metadata": {},
     "outputs": [],
     "prompt_number": "*"
    },
    {
     "cell_type": "code",
     "collapsed": false,
     "input": [],
     "language": "python",
     "metadata": {},
     "outputs": [],
     "prompt_number": 2
    }
   ],
   "metadata": {}
  }
 ]
}