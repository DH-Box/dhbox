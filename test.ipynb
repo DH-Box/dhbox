{
 "metadata": {
  "name": ""
 },
 "nbformat": 3,
 "nbformat_minor": 0,
 "worksheets": [
  {
   "cells": [
    {
     "cell_type": "markdown",
     "metadata": {},
     "source": [
      "# Learning NLTK\n",
      "\n",
      "This notebook introduces the Natural Language Toolkit (NLTK)."
     ]
    },
    {
     "cell_type": "markdown",
     "metadata": {},
     "source": [
      "## NLTK Example Texts\n",
      "\n",
      "The first step is to import the ``nltk`` library and to load some example texts."
     ]
    },
    {
     "cell_type": "code",
     "collapsed": false,
     "input": [
      "import nltk"
     ],
     "language": "python",
     "metadata": {},
     "outputs": [],
     "prompt_number": 1
    },
    {
     "cell_type": "code",
     "collapsed": false,
     "input": [
      "from nltk.book import *"
     ],
     "language": "python",
     "metadata": {},
     "outputs": [
      {
       "output_type": "stream",
       "stream": "stdout",
       "text": [
        "*** Introductory Examples for the NLTK Book ***\n",
        "Loading text1, ..., text9 and sent1, ..., sent9\n",
        "Type the name of the text or sentence to view it.\n",
        "Type: 'texts()' or 'sents()' to list the materials.\n",
        "text1:"
       ]
      },
      {
       "output_type": "stream",
       "stream": "stdout",
       "text": [
        " Moby Dick by Herman Melville 1851\n",
        "text2:"
       ]
      },
      {
       "output_type": "stream",
       "stream": "stdout",
       "text": [
        " Sense and Sensibility by Jane Austen 1811\n",
        "text3:"
       ]
      },
      {
       "output_type": "stream",
       "stream": "stdout",
       "text": [
        " The Book of Genesis\n",
        "text4:"
       ]
      },
      {
       "output_type": "stream",
       "stream": "stdout",
       "text": [
        " Inaugural Address Corpus\n",
        "text5:"
       ]
      },
      {
       "output_type": "stream",
       "stream": "stdout",
       "text": [
        " Chat Corpus\n",
        "text6:"
       ]
      },
      {
       "output_type": "stream",
       "stream": "stdout",
       "text": [
        " Monty Python and the Holy Grail\n",
        "text7:"
       ]
      },
      {
       "output_type": "stream",
       "stream": "stdout",
       "text": [
        " Wall Street Journal\n",
        "text8: Personals Corpus\n",
        "text9:"
       ]
      },
      {
       "output_type": "stream",
       "stream": "stdout",
       "text": [
        " The Man Who Was Thursday by G . K . Chesterton 1908\n"
       ]
      }
     ],
     "prompt_number": 2
    },
    {
     "cell_type": "markdown",
     "metadata": {},
     "source": [
      "## Dispersion Plots"
     ]
    },
    {
     "cell_type": "code",
     "collapsed": false,
     "input": [
      "text1.dispersion_plot(['Ahab','dog','Ishmael','Queequeg', 'Moby', 'dive'])"
     ],
     "language": "python",
     "metadata": {},
     "outputs": [
      {
       "ename": "NameError",
       "evalue": "name 'text1' is not defined",
       "output_type": "pyerr",
       "traceback": [
        "\u001b[0;31m---------------------------------------------------------------------------\u001b[0m\n\u001b[0;31mNameError\u001b[0m                                 Traceback (most recent call last)",
        "\u001b[0;32m<ipython-input-1-dba4fe4c428b>\u001b[0m in \u001b[0;36m<module>\u001b[0;34m()\u001b[0m\n\u001b[0;32m----> 1\u001b[0;31m \u001b[0mtext1\u001b[0m\u001b[0;34m.\u001b[0m\u001b[0mdispersion_plot\u001b[0m\u001b[0;34m(\u001b[0m\u001b[0;34m[\u001b[0m\u001b[0;34m'Ahab'\u001b[0m\u001b[0;34m,\u001b[0m\u001b[0;34m'dog'\u001b[0m\u001b[0;34m,\u001b[0m\u001b[0;34m'Ishmael'\u001b[0m\u001b[0;34m,\u001b[0m\u001b[0;34m'Queequeg'\u001b[0m\u001b[0;34m,\u001b[0m \u001b[0;34m'Moby'\u001b[0m\u001b[0;34m,\u001b[0m \u001b[0;34m'dive'\u001b[0m\u001b[0;34m]\u001b[0m\u001b[0;34m)\u001b[0m\u001b[0;34m\u001b[0m\u001b[0m\n\u001b[0m",
        "\u001b[0;31mNameError\u001b[0m: name 'text1' is not defined"
       ]
      }
     ],
     "prompt_number": 1
    },
    {
     "cell_type": "code",
     "collapsed": false,
     "input": [
      "text4.dispersion_plot([\"citizens\", \"democracy\", \"freedom\", \"duties\", \"America\"])"
     ],
     "language": "python",
     "metadata": {},
     "outputs": [
      {
       "output_type": "display_data",
       "png": "[encoded data removed]"
      }
     ],
     "prompt_number": 4
    },
    {
     "cell_type": "markdown",
     "metadata": {},
     "source": [
      "## Concordances"
     ]
    },
    {
     "cell_type": "code",
     "collapsed": false,
     "input": [
      "a = 4\n",
      "b = 6\n",
      "a + b"
     ],
     "language": "python",
     "metadata": {},
     "outputs": [
      {
       "metadata": {},
       "output_type": "pyout",
       "prompt_number": 2,
       "text": [
        "10"
       ]
      }
     ],
     "prompt_number": 2
    },
    {
     "cell_type": "code",
     "collapsed": false,
     "input": [
      "text1.concordance('Ishmael')"
     ],
     "language": "python",
     "metadata": {},
     "outputs": [
      {
       "output_type": "stream",
       "stream": "stdout",
       "text": [
        "Building index...\n",
        "Displaying 20 of 20 matches:"
       ]
      },
      {
       "output_type": "stream",
       "stream": "stdout",
       "text": [
        "\n",
        "SONG . CHAPTER 1 Loomings . Call me Ishmael . Some years ago -- never mind how \n",
        "ED STATES . \" WHALING VOYAGE BY ONE ISHMAEL . \" BLOODY BATTLE IN AFFGHANISTAN .\n",
        "f silver ,-- So , wherever you go , Ishmael , said I to myself , as I stood in \n",
        "de to lodge for the night , my dear Ishmael , be sure to inquire the price , an\n",
        "nkling glasses within . But go on , Ishmael , said I at last ; don ' t you hear\n",
        "g and teeth - gnashing there . Ha , Ishmael , muttered I , backing out , Wretch\n",
        "emen who had gone before me . Yes , Ishmael , the same fate may be thine . But \n",
        " ? thought I . Do you suppose now , Ishmael , that the magnanimous God of heave\n",
        "l , which , if left to myself , I , Ishmael , should infallibly light upon , fo\n",
        " Bildad . Now then , my young man , Ishmael ' s thy name , didn ' t ye say ? We\n",
        "say ? Well then , down ye go here , Ishmael , for the three hundredth lay .\" \" \n",
        "why don ' t you speak ? It ' s I -- Ishmael .\" But all remained still as before\n",
        "l fear ! CHAPTER 41 Moby Dick . I , Ishmael , was one of that crew ; my shouts \n",
        "lain , would be to dive deeper than Ishmael can go . The subterranean miner tha\n",
        "oul ; thou surrenderest to a hypo , Ishmael . Tell me , why this strong young c\n",
        " snows of prairies ; all these , to Ishmael , are as the shaking of that buffal\n",
        "ubtle meanings , how may unlettered Ishmael hope to read the awful Chaldee of t\n",
        "onditional skeleton . But how now , Ishmael ? How is it , that you , a mere oar\n",
        " for exhibition ? Explain thyself , Ishmael . Can you land a full - grown whale\n",
        "le witness have you hitherto been , Ishmael ; but have a care how you seize the\n"
       ]
      }
     ],
     "prompt_number": 5
    },
    {
     "cell_type": "code",
     "collapsed": false,
     "input": [
      "text1.similar('Ishmael')"
     ],
     "language": "python",
     "metadata": {},
     "outputs": [
      {
       "output_type": "stream",
       "stream": "stdout",
       "text": [
        "Building word-context index...\n",
        "ahab did in it what about admit am and been bound bury could do except\n",
        "extreme for goes guess had"
       ]
      },
      {
       "output_type": "stream",
       "stream": "stdout",
       "text": [
        "\n"
       ]
      }
     ],
     "prompt_number": 6
    },
    {
     "cell_type": "code",
     "collapsed": false,
     "input": [
      "text1.similar('whale')"
     ],
     "language": "python",
     "metadata": {},
     "outputs": [
      {
       "output_type": "stream",
       "stream": "stdout",
       "text": [
        "ship boat sea time captain deck man pequod world other whales air crew\n",
        "head water line thing side way body\n"
       ]
      }
     ],
     "prompt_number": 7
    },
    {
     "cell_type": "code",
     "collapsed": false,
     "input": [
      "text1.collocations()"
     ],
     "language": "python",
     "metadata": {},
     "outputs": [
      {
       "output_type": "stream",
       "stream": "stdout",
       "text": [
        "Building collocations list\n",
        "Sperm Whale; Moby Dick; White Whale; old man; Captain Ahab; sperm\n",
        "whale; Right Whale; Captain Peleg; New Bedford; Cape Horn; cried Ahab;\n",
        "years ago; lower jaw; never mind; Father Mapple; cried Stubb; chief\n",
        "mate; white whale; ivory leg; one hand"
       ]
      },
      {
       "output_type": "stream",
       "stream": "stdout",
       "text": [
        "\n"
       ]
      }
     ],
     "prompt_number": 8
    },
    {
     "cell_type": "code",
     "collapsed": false,
     "input": [
      "text1.concordance(\"monstrous\")"
     ],
     "language": "python",
     "metadata": {},
     "outputs": [
      {
       "output_type": "stream",
       "stream": "stdout",
       "text": [
        "Displaying 11 of 11 matches:\n",
        "ong the former , one was of a most monstrous size . ... This came towards us , \n",
        "ON OF THE PSALMS . \" Touching that monstrous bulk of the whale or ork we have r\n",
        "ll over with a heathenish array of monstrous clubs and spears . Some were thick\n",
        "d as you gazed , and wondered what monstrous cannibal and savage could ever hav\n",
        "that has survived the flood ; most monstrous and most mountainous ! That Himmal\n",
        "they might scout at Moby Dick as a monstrous fable , or still worse and more de\n",
        "th of Radney .'\" CHAPTER 55 Of the Monstrous Pictures of Whales . I shall ere l\n",
        "ing Scenes . In connexion with the monstrous pictures of whales , I am strongly\n",
        "ere to enter upon those still more monstrous stories of them which are to be fo\n",
        "ght have been rummaged out of this monstrous cabinet there is no telling . But \n",
        "of Whale - Bones ; for Whales of a monstrous size are oftentimes cast up dead u\n"
       ]
      }
     ],
     "prompt_number": 9
    },
    {
     "cell_type": "code",
     "collapsed": false,
     "input": [
      "text2.concordance(\"monstrous\")"
     ],
     "language": "python",
     "metadata": {},
     "outputs": [
      {
       "output_type": "stream",
       "stream": "stdout",
       "text": [
        "Building index...\n",
        "Displaying 11 of 11 matches:"
       ]
      },
      {
       "output_type": "stream",
       "stream": "stdout",
       "text": [
        "\n",
        ". \" Now , Palmer , you shall see a monstrous pretty girl .\" He immediately went\n",
        "your sister is to marry him . I am monstrous glad of it , for then I shall have\n",
        "ou may tell your sister . She is a monstrous lucky girl to get him , upon my ho\n",
        "k how you will like them . Lucy is monstrous pretty , and so good humoured and \n",
        " Jennings , \" I am sure I shall be monstrous glad of Miss Marianne ' s company \n",
        " usual noisy cheerfulness , \" I am monstrous glad to see you -- sorry I could n\n",
        "t however , as it turns out , I am monstrous glad there was never any thing in \n",
        "so scornfully ! for they say he is monstrous fond of her , as well he may . I s\n",
        "possible that she should .\" \" I am monstrous glad of it . Good gracious ! I hav\n",
        "thing of the kind . So then he was monstrous happy , and talked on some time ab\n",
        "e very genteel people . He makes a monstrous deal of money , and they keep thei\n"
       ]
      }
     ],
     "prompt_number": 10
    },
    {
     "cell_type": "code",
     "collapsed": false,
     "input": [
      "text1.similar(\"monstrous\")"
     ],
     "language": "python",
     "metadata": {},
     "outputs": [
      {
       "output_type": "stream",
       "stream": "stdout",
       "text": [
        "abundant candid careful christian contemptible curious delightfully\n",
        "determined doleful domineering exasperate fearless few gamesome\n",
        "horrible impalpable imperial lamentable lazy loving\n"
       ]
      }
     ],
     "prompt_number": 11
    },
    {
     "cell_type": "code",
     "collapsed": false,
     "input": [
      "text2.similar(\"monstrous\")"
     ],
     "language": "python",
     "metadata": {},
     "outputs": [
      {
       "output_type": "stream",
       "stream": "stdout",
       "text": [
        "Building word-context index...\n",
        "very exceedingly heartily so a amazingly as extremely good great\n",
        "remarkably sweet vast"
       ]
      },
      {
       "output_type": "stream",
       "stream": "stdout",
       "text": [
        "\n"
       ]
      }
     ],
     "prompt_number": 12
    },
    {
     "cell_type": "markdown",
     "metadata": {},
     "source": [
      "## Lexical Diversity"
     ]
    },
    {
     "cell_type": "code",
     "collapsed": false,
     "input": [
      "def lexical_diversity(text):\n",
      "    return len(text)/(1.0*len(set(text)))\n",
      "\n",
      "def percentage(count, total):\n",
      "    return 100*count/total"
     ],
     "language": "python",
     "metadata": {},
     "outputs": [],
     "prompt_number": 13
    },
    {
     "cell_type": "code",
     "collapsed": false,
     "input": [
      "lexical_diversity(text3)"
     ],
     "language": "python",
     "metadata": {},
     "outputs": [
      {
       "output_type": "pyout",
       "prompt_number": 14,
       "text": [
        "16.050197203298673"
       ]
      }
     ],
     "prompt_number": 14
    },
    {
     "cell_type": "code",
     "collapsed": false,
     "input": [
      "lexical_diversity(text4)"
     ],
     "language": "python",
     "metadata": {},
     "outputs": [
      {
       "output_type": "pyout",
       "prompt_number": 15,
       "text": [
        "14.941049825712529"
       ]
      }
     ],
     "prompt_number": 15
    },
    {
     "cell_type": "code",
     "collapsed": false,
     "input": [
      "lexical_diversity(text5)"
     ],
     "language": "python",
     "metadata": {},
     "outputs": [
      {
       "output_type": "pyout",
       "prompt_number": 16,
       "text": [
        "7.420046158918563"
       ]
      }
     ],
     "prompt_number": 16
    },
    {
     "cell_type": "code",
     "collapsed": false,
     "input": [
      "fdist1 = FreqDist(text1)"
     ],
     "language": "python",
     "metadata": {},
     "outputs": [],
     "prompt_number": 17
    },
    {
     "cell_type": "code",
     "collapsed": false,
     "input": [
      "vocabulary1 = fdist1.keys()"
     ],
     "language": "python",
     "metadata": {},
     "outputs": [],
     "prompt_number": 18
    },
    {
     "cell_type": "code",
     "collapsed": false,
     "input": [
      "fdist1['whale']"
     ],
     "language": "python",
     "metadata": {},
     "outputs": [
      {
       "output_type": "pyout",
       "prompt_number": 19,
       "text": [
        "906"
       ]
      }
     ],
     "prompt_number": 19
    },
    {
     "cell_type": "code",
     "collapsed": false,
     "input": [
      "fdist1['monstrous']"
     ],
     "language": "python",
     "metadata": {},
     "outputs": [
      {
       "output_type": "pyout",
       "prompt_number": 20,
       "text": [
        "10"
       ]
      }
     ],
     "prompt_number": 20
    },
    {
     "cell_type": "code",
     "collapsed": false,
     "input": [
      "fdist1.plot(50, cumulative=True)"
     ],
     "language": "python",
     "metadata": {},
     "outputs": [
      {
       "output_type": "display_data",
       "png": "[encoded data removed]"
      }
     ],
     "prompt_number": 21
    },
    {
     "cell_type": "code",
     "collapsed": false,
     "input": [
      "hapaxes1 = fdist1.hapaxes()\n",
      "print len(hapaxes1)\n",
      "print hapaxes1[1000:1010]"
     ],
     "language": "python",
     "metadata": {},
     "outputs": [
      {
       "output_type": "stream",
       "stream": "stdout",
       "text": [
        "9002\n",
        "['Gull', 'Gurry', 'HACKLUYT', 'HAILS', 'HALF', 'HAMLET', 'HANDS', 'HANGING', 'HARD', 'HARDY']\n"
       ]
      }
     ],
     "prompt_number": 22
    },
    {
     "cell_type": "markdown",
     "metadata": {},
     "source": [
      "## n-grams"
     ]
    },
    {
     "cell_type": "code",
     "collapsed": false,
     "input": [
      "thursday_sents = nltk.corpus.gutenberg.sents('chesterton-thursday.txt')\n",
      "sent22 = thursday_sents[22]\n",
      "' '.join(sent22)"
     ],
     "language": "python",
     "metadata": {},
     "outputs": [
      {
       "output_type": "pyout",
       "prompt_number": 23,
       "text": [
        "'THE suburb of Saffron Park lay on the sunset side of London , as red and ragged as a cloud of sunset .'"
       ]
      }
     ],
     "prompt_number": 23
    },
    {
     "cell_type": "code",
     "collapsed": false,
     "input": [
      "nltk.bigrams(w for w in sent22 if w.isalpha())"
     ],
     "language": "python",
     "metadata": {},
     "outputs": [
      {
       "output_type": "pyout",
       "prompt_number": 24,
       "text": [
        "[('THE', 'suburb'),\n",
        " ('suburb', 'of'),\n",
        " ('of', 'Saffron'),\n",
        " ('Saffron', 'Park'),\n",
        " ('Park', 'lay'),\n",
        " ('lay', 'on'),\n",
        " ('on', 'the'),\n",
        " ('the', 'sunset'),\n",
        " ('sunset', 'side'),\n",
        " ('side', 'of'),\n",
        " ('of', 'London'),\n",
        " ('London', 'as'),\n",
        " ('as', 'red'),\n",
        " ('red', 'and'),\n",
        " ('and', 'ragged'),\n",
        " ('ragged', 'as'),\n",
        " ('as', 'a'),\n",
        " ('a', 'cloud'),\n",
        " ('cloud', 'of'),\n",
        " ('of', 'sunset')]"
       ]
      }
     ],
     "prompt_number": 24
    },
    {
     "cell_type": "code",
     "collapsed": false,
     "input": [
      "import networkx as nx\n",
      "G = nx.Graph()\n",
      "begin_sent = 22\n",
      "end_sent = 24\n",
      "sents = thursday_sents[begin_sent:end_sent+1]\n",
      "for sent in sents:\n",
      "    G.add_edges_from(nltk.bigrams(w for w in sent if w.isalpha()))\n",
      "nx.draw(G)"
     ],
     "language": "python",
     "metadata": {},
     "outputs": [
      {
       "output_type": "display_data",
       "png": "[encoded data removed]"
      }
     ],
     "prompt_number": 25
    },
    {
     "cell_type": "markdown",
     "metadata": {},
     "source": [
      "## Lexical clusters in Dickens\n",
      "\n",
      "Below [BKL] refers to \"Natural Language Processing with Python\" by Bird, Klein and Loper and [MAR] refers to \"Mining the Social Web\" by Matthew A. Russell."
     ]
    },
    {
     "cell_type": "markdown",
     "metadata": {},
     "source": [
      "### Getting the raw text\n",
      "\n",
      "See page 95 of [BKL]."
     ]
    },
    {
     "cell_type": "raw",
     "metadata": {},
     "source": [
      "Hey,m try this next"
     ]
    },
    {
     "cell_type": "code",
     "collapsed": false,
     "input": [
      "import codecs, nltk, pprint\n",
      "hard_times_path = \"/home/matthew/workspace/resources/C/Corpus Stylistics/Dickens, Charles/786-0.txt\"\n",
      "david_copperfield_path = \"/home/matthew/workspace/resources/C/Corpus Stylistics/Dickens, Charles/pg766.txt\"\n",
      "f = codecs.open(hard_times_path, encoding = 'utf-8')\n",
      "david_copperfield_file = codecs.open(david_copperfield_path, encoding = 'utf-8')"
     ],
     "language": "python",
     "metadata": {},
     "outputs": [
      {
       "ename": "ImportError",
       "evalue": "No module named nltk",
       "output_type": "pyerr",
       "traceback": [
        "\u001b[0;31m---------------------------------------------------------------------------\u001b[0m\n\u001b[0;31mImportError\u001b[0m                               Traceback (most recent call last)",
        "\u001b[0;32m<ipython-input-3-9b3b1c73f531>\u001b[0m in \u001b[0;36m<module>\u001b[0;34m()\u001b[0m\n\u001b[0;32m----> 1\u001b[0;31m \u001b[0;32mimport\u001b[0m \u001b[0mcodecs\u001b[0m\u001b[0;34m,\u001b[0m \u001b[0mnltk\u001b[0m\u001b[0;34m,\u001b[0m \u001b[0mpprint\u001b[0m\u001b[0;34m\u001b[0m\u001b[0m\n\u001b[0m\u001b[1;32m      2\u001b[0m \u001b[0mhard_times_path\u001b[0m \u001b[0;34m=\u001b[0m \u001b[0;34m\"/home/matthew/workspace/resources/C/Corpus Stylistics/Dickens, Charles/786-0.txt\"\u001b[0m\u001b[0;34m\u001b[0m\u001b[0m\n\u001b[1;32m      3\u001b[0m \u001b[0mdavid_copperfield_path\u001b[0m \u001b[0;34m=\u001b[0m \u001b[0;34m\"/home/matthew/workspace/resources/C/Corpus Stylistics/Dickens, Charles/pg766.txt\"\u001b[0m\u001b[0;34m\u001b[0m\u001b[0m\n\u001b[1;32m      4\u001b[0m \u001b[0mf\u001b[0m \u001b[0;34m=\u001b[0m \u001b[0mcodecs\u001b[0m\u001b[0;34m.\u001b[0m\u001b[0mopen\u001b[0m\u001b[0;34m(\u001b[0m\u001b[0mhard_times_path\u001b[0m\u001b[0;34m,\u001b[0m \u001b[0mencoding\u001b[0m \u001b[0;34m=\u001b[0m \u001b[0;34m'utf-8'\u001b[0m\u001b[0;34m)\u001b[0m\u001b[0;34m\u001b[0m\u001b[0m\n\u001b[1;32m      5\u001b[0m \u001b[0mdavid_copperfield_file\u001b[0m \u001b[0;34m=\u001b[0m \u001b[0mcodecs\u001b[0m\u001b[0;34m.\u001b[0m\u001b[0mopen\u001b[0m\u001b[0;34m(\u001b[0m\u001b[0mdavid_copperfield_path\u001b[0m\u001b[0;34m,\u001b[0m \u001b[0mencoding\u001b[0m \u001b[0;34m=\u001b[0m \u001b[0;34m'utf-8'\u001b[0m\u001b[0;34m)\u001b[0m\u001b[0;34m\u001b[0m\u001b[0m\n",
        "\u001b[0;31mImportError\u001b[0m: No module named nltk"
       ]
      }
     ],
     "prompt_number": 3
    },
    {
     "cell_type": "code",
     "collapsed": false,
     "input": [
      "hard_times_raw_text = f.read()\n",
      "len(hard_times_raw_text)"
     ],
     "language": "python",
     "metadata": {},
     "outputs": [
      {
       "output_type": "pyout",
       "prompt_number": 27,
       "text": [
        "610690"
       ]
      }
     ],
     "prompt_number": 27
    },
    {
     "cell_type": "code",
     "collapsed": false,
     "input": [
      "david_copperfield_raw_text = david_copperfield_file.read()\n",
      "len(david_copperfield_raw_text)"
     ],
     "language": "python",
     "metadata": {},
     "outputs": [
      {
       "output_type": "pyout",
       "prompt_number": 130,
       "text": [
        "1992524"
       ]
      }
     ],
     "prompt_number": 130
    },
    {
     "cell_type": "markdown",
     "metadata": {},
     "source": [
      "### Sentence tokenizing\n",
      "\n",
      "See page 112 of [BKL]."
     ]
    },
    {
     "cell_type": "code",
     "collapsed": false,
     "input": [
      "sent_tokenizer = nltk.data.load('tokenizers/punkt/english.pickle')\n",
      "sents = sent_tokenizer.tokenize(hard_times_raw_text)"
     ],
     "language": "python",
     "metadata": {},
     "outputs": [],
     "prompt_number": 28
    },
    {
     "cell_type": "code",
     "collapsed": false,
     "input": [
      "print sents[171]"
     ],
     "language": "python",
     "metadata": {},
     "outputs": [
      {
       "output_type": "stream",
       "stream": "stdout",
       "text": [
        "He had reached the neutral ground upon the outskirts of the town, which\r\n",
        "was neither town nor country, and yet was either spoiled, when his ears\r\n",
        "were invaded by the sound of music.\n"
       ]
      }
     ],
     "prompt_number": 29
    },
    {
     "cell_type": "code",
     "collapsed": false,
     "input": [
      "len(sents)"
     ],
     "language": "python",
     "metadata": {},
     "outputs": [
      {
       "output_type": "pyout",
       "prompt_number": 30,
       "text": [
        "4498"
       ]
      }
     ],
     "prompt_number": 30
    },
    {
     "cell_type": "markdown",
     "metadata": {},
     "source": [
      "An alternative approach based on [MAR]."
     ]
    },
    {
     "cell_type": "code",
     "collapsed": false,
     "input": [
      "sents = nltk.tokenize.sent_tokenize(hard_times_raw_text)"
     ],
     "language": "python",
     "metadata": {},
     "outputs": [],
     "prompt_number": 31
    },
    {
     "cell_type": "code",
     "collapsed": false,
     "input": [
      "print sents[171]"
     ],
     "language": "python",
     "metadata": {},
     "outputs": [
      {
       "output_type": "stream",
       "stream": "stdout",
       "text": [
        "He had reached the neutral ground upon the outskirts of the town, which\r\n",
        "was neither town nor country, and yet was either spoiled, when his ears\r\n",
        "were invaded by the sound of music.\n"
       ]
      }
     ],
     "prompt_number": 32
    },
    {
     "cell_type": "code",
     "collapsed": false,
     "input": [
      "DC_sents = nltk.tokenize.sent_tokenize(david_copperfield_raw_text)\n",
      "print DC_sents[171]"
     ],
     "language": "python",
     "metadata": {},
     "outputs": [
      {
       "output_type": "stream",
       "stream": "stdout",
       "text": [
        "Calls a house a rookery when there's not a rook near it,\r\n",
        "and takes the birds on trust, because he sees the nests!\n"
       ]
      }
     ],
     "prompt_number": 131
    },
    {
     "cell_type": "markdown",
     "metadata": {},
     "source": [
      "### Word tokenizing"
     ]
    },
    {
     "cell_type": "code",
     "collapsed": false,
     "input": [
      "tokens = [nltk.tokenize.word_tokenize(s) for s in sents]"
     ],
     "language": "python",
     "metadata": {},
     "outputs": [],
     "prompt_number": 33
    },
    {
     "cell_type": "code",
     "collapsed": false,
     "input": [
      "len(tokens)"
     ],
     "language": "python",
     "metadata": {},
     "outputs": [
      {
       "output_type": "pyout",
       "prompt_number": 34,
       "text": [
        "4498"
       ]
      }
     ],
     "prompt_number": 34
    },
    {
     "cell_type": "code",
     "collapsed": false,
     "input": [
      "print tokens[171]"
     ],
     "language": "python",
     "metadata": {},
     "outputs": [
      {
       "output_type": "stream",
       "stream": "stdout",
       "text": [
        "[u'He', u'had', u'reached', u'the', u'neutral', u'ground', u'upon', u'the', u'outskirts', u'of', u'the', u'town', u',', u'which', u'was', u'neither', u'town', u'nor', u'country', u',', u'and', u'yet', u'was', u'either', u'spoiled', u',', u'when', u'his', u'ears', u'were', u'invaded', u'by', u'the', u'sound', u'of', u'music', u'.']\n"
       ]
      }
     ],
     "prompt_number": 35
    },
    {
     "cell_type": "code",
     "collapsed": false,
     "input": [
      "DC_tokens = [nltk.tokenize.word_tokenize(s) for s in DC_sents]"
     ],
     "language": "python",
     "metadata": {},
     "outputs": [],
     "prompt_number": 134
    },
    {
     "cell_type": "code",
     "collapsed": false,
     "input": [
      "print DC_tokens[171]"
     ],
     "language": "python",
     "metadata": {},
     "outputs": [
      {
       "output_type": "stream",
       "stream": "stdout",
       "text": [
        "[u'Calls', u'a', u'house', u'a', u'rookery', u'when', u'there', u\"'s\", u'not', u'a', u'rook', u'near', u'it', u',', u'and', u'takes', u'the', u'birds', u'on', u'trust', u',', u'because', u'he', u'sees', u'the', u'nests', u'!']\n"
       ]
      }
     ],
     "prompt_number": 135
    },
    {
     "cell_type": "markdown",
     "metadata": {},
     "source": [
      "### POS tagging\n",
      "\n",
      "Warning: Very slow"
     ]
    },
    {
     "cell_type": "code",
     "collapsed": false,
     "input": [
      "# pos_tagged_tokens = [nltk.pos_tag(t) for t in tokens]"
     ],
     "language": "python",
     "metadata": {},
     "outputs": [],
     "prompt_number": 36
    },
    {
     "cell_type": "markdown",
     "metadata": {},
     "source": [
      "### n-grams"
     ]
    },
    {
     "cell_type": "code",
     "collapsed": false,
     "input": [
      "' ' .join(tokens[171])"
     ],
     "language": "python",
     "metadata": {},
     "outputs": [
      {
       "output_type": "pyout",
       "prompt_number": 63,
       "text": [
        "u'He had reached the neutral ground upon the outskirts of the town , which was neither town nor country , and yet was either spoiled , when his ears were invaded by the sound of music .'"
       ]
      }
     ],
     "prompt_number": 63
    },
    {
     "cell_type": "code",
     "collapsed": false,
     "input": [
      "bigram = nltk.bigrams(w for w in tokens[171] if w.isalpha())"
     ],
     "language": "python",
     "metadata": {},
     "outputs": [],
     "prompt_number": 61
    },
    {
     "cell_type": "code",
     "collapsed": false,
     "input": [
      "import networkx as nx\n",
      "G = nx.Graph()\n",
      "G.add_edges_from(bigram)\n",
      "nx.draw(G)"
     ],
     "language": "python",
     "metadata": {},
     "outputs": [
      {
       "output_type": "display_data",
       "png": "[encoded data removed]"
      }
     ],
     "prompt_number": 62
    },
    {
     "cell_type": "code",
     "collapsed": false,
     "input": [
      "print nltk.ngrams((w for w in tokens[171] if w.isalpha()), 5)"
     ],
     "language": "python",
     "metadata": {},
     "outputs": [
      {
       "output_type": "stream",
       "stream": "stdout",
       "text": [
        "[(u'He', u'had', u'reached', u'the', u'neutral'), (u'had', u'reached', u'the', u'neutral', u'ground'), (u'reached', u'the', u'neutral', u'ground', u'upon'), (u'the', u'neutral', u'ground', u'upon', u'the'), (u'neutral', u'ground', u'upon', u'the', u'outskirts'), (u'ground', u'upon', u'the', u'outskirts', u'of'), (u'upon', u'the', u'outskirts', u'of', u'the'), (u'the', u'outskirts', u'of', u'the', u'town'), (u'outskirts', u'of', u'the', u'town', u'which'), (u'of', u'the', u'town', u'which', u'was'), (u'the', u'town', u'which', u'was', u'neither'), (u'town', u'which', u'was', u'neither', u'town'), (u'which', u'was', u'neither', u'town', u'nor'), (u'was', u'neither', u'town', u'nor', u'country'), (u'neither', u'town', u'nor', u'country', u'and'), (u'town', u'nor', u'country', u'and', u'yet'), (u'nor', u'country', u'and', u'yet', u'was'), (u'country', u'and', u'yet', u'was', u'either'), (u'and', u'yet', u'was', u'either', u'spoiled'), (u'yet', u'was', u'either', u'spoiled', u'when'), (u'was', u'either', u'spoiled', u'when', u'his'), (u'either', u'spoiled', u'when', u'his', u'ears'), (u'spoiled', u'when', u'his', u'ears', u'were'), (u'when', u'his', u'ears', u'were', u'invaded'), (u'his', u'ears', u'were', u'invaded', u'by'), (u'ears', u'were', u'invaded', u'by', u'the'), (u'were', u'invaded', u'by', u'the', u'sound'), (u'invaded', u'by', u'the', u'sound', u'of'), (u'by', u'the', u'sound', u'of', u'music')]\n"
       ]
      }
     ],
     "prompt_number": 75
    },
    {
     "cell_type": "markdown",
     "metadata": {},
     "source": [
      "Now consider the full text of \"Hard Times\", here represented by the list ```tokens```."
     ]
    },
    {
     "cell_type": "code",
     "collapsed": false,
     "input": [
      "fivegrams = []\n",
      "for t in tokens:\n",
      "    fivegrams += nltk.ngrams((w for w in t if w.isalpha()), 5)"
     ],
     "language": "python",
     "metadata": {},
     "outputs": [],
     "prompt_number": 67
    },
    {
     "cell_type": "code",
     "collapsed": false,
     "input": [
      "print ' '.join(fivegrams[2000])"
     ],
     "language": "python",
     "metadata": {},
     "outputs": [
      {
       "output_type": "stream",
       "stream": "stdout",
       "text": [
        "board with a dry Ogre\n"
       ]
      }
     ],
     "prompt_number": 73
    },
    {
     "cell_type": "markdown",
     "metadata": {},
     "source": [
      "Create a dictionary to count occurrences of specific 5-grams."
     ]
    },
    {
     "cell_type": "code",
     "collapsed": false,
     "input": [
      "D = {}\n",
      "for gram in fivegrams:\n",
      "    if not D.get(gram):\n",
      "        D[gram] = 1\n",
      "    else:\n",
      "        D[gram] += 1"
     ],
     "language": "python",
     "metadata": {},
     "outputs": [],
     "prompt_number": 76
    },
    {
     "cell_type": "markdown",
     "metadata": {},
     "source": [
      "Iterate through the keys of the dictionary and print out and 5-grams that have more than 3 occurrences in the text."
     ]
    },
    {
     "cell_type": "code",
     "collapsed": false,
     "input": [
      "for gram in D.keys():\n",
      "    if D[gram] > 3:\n",
      "        print ' '.join(gram), D[gram]"
     ],
     "language": "python",
     "metadata": {},
     "outputs": [
      {
       "output_type": "stream",
       "stream": "stdout",
       "text": [
        "and why did he not 4\n",
        "did he not come back 4\n",
        "as if she would have 4\n",
        "and venison with a gold 4\n",
        "why did he not come 4\n",
        "sir returned Sparsit with a 5\n",
        "man and why did he 4\n",
        "The emphasis was helped by 4\n",
        "venison with a gold spoon 4\n",
        "I am Josiah Bounderby of 4\n",
        "to the Project Gutenberg Literary 6\n",
        "was the man and why 4\n",
        "his hands in his pockets 8\n",
        "No little Gradgrind had ever 4\n",
        "this town and I know 4\n",
        "the terms of this agreement 7\n",
        "am Josiah Bounderby of Coketown 4\n",
        "with his hands in his 6\n",
        "town and I know the"
       ]
      },
      {
       "output_type": "stream",
       "stream": "stdout",
       "text": [
        " 4\n",
        "soup and venison with a 4\n",
        "emphasis was helped by the 4\n",
        "turtle soup and venison with 4\n",
        "the man and why did 4\n",
        "Project Gutenberg Literary Archive Foundation 13\n",
        "of this town and I 4\n",
        "the Project Gutenberg Literary Archive 11\n",
        "a law to punish me 4\n"
       ]
      }
     ],
     "prompt_number": 86
    },
    {
     "cell_type": "markdown",
     "metadata": {},
     "source": [
      "Now we can try to find the occurrences of one of the 5-grams, 'vension with a gold spoon', in the original text."
     ]
    },
    {
     "cell_type": "code",
     "collapsed": false,
     "input": [
      "hard_times_raw_text.find('venison with a gold spoon')"
     ],
     "language": "python",
     "metadata": {},
     "outputs": [
      {
       "output_type": "pyout",
       "prompt_number": 87,
       "text": [
        "250056"
       ]
      }
     ],
     "prompt_number": 87
    },
    {
     "cell_type": "code",
     "collapsed": false,
     "input": [
      "print hard_times_raw_text[250010:250082]"
     ],
     "language": "python",
     "metadata": {},
     "outputs": [
      {
       "output_type": "stream",
       "stream": "stdout",
       "text": [
        "\n",
        "That object is, to be fed on turtle soup and venison with a gold spoon.\n"
       ]
      }
     ],
     "prompt_number": 116
    },
    {
     "cell_type": "code",
     "collapsed": false,
     "input": [
      "hard_times_raw_text.find('venison with a gold spoon',250057)"
     ],
     "language": "python",
     "metadata": {},
     "outputs": [
      {
       "output_type": "pyout",
       "prompt_number": 96,
       "text": [
        "250156"
       ]
      }
     ],
     "prompt_number": 96
    },
    {
     "cell_type": "code",
     "collapsed": false,
     "input": [
      "print hard_times_raw_text[250084:250182]"
     ],
     "language": "python",
     "metadata": {},
     "outputs": [
      {
       "output_type": "stream",
       "stream": "stdout",
       "text": [
        "Now, they\u2019re not a-going\u2014none of \u2019em\u2014ever to be fed on turtle soup and\r\n",
        "venison with a gold spoon.\n"
       ]
      }
     ],
     "prompt_number": 113
    },
    {
     "cell_type": "markdown",
     "metadata": {},
     "source": [
      "We only find 2, instead of the 4 we counted, though. Probably an issue of punctuation."
     ]
    },
    {
     "cell_type": "code",
     "collapsed": false,
     "input": [
      "hard_times_raw_text.find('venison with a gold spoon', 250157)"
     ],
     "language": "python",
     "metadata": {},
     "outputs": [
      {
       "output_type": "pyout",
       "prompt_number": 115,
       "text": [
        "-1"
       ]
      }
     ],
     "prompt_number": 115
    },
    {
     "cell_type": "code",
     "collapsed": false,
     "input": [
      "five_gram_2 = 'his hands in his pockets'\n",
      "hard_times_raw_text.find(five_gram_2)"
     ],
     "language": "python",
     "metadata": {},
     "outputs": [
      {
       "output_type": "pyout",
       "prompt_number": 122,
       "text": [
        "39377"
       ]
      }
     ],
     "prompt_number": 122
    },
    {
     "cell_type": "code",
     "collapsed": false,
     "input": [
      "hard_times_raw_text.find(five_gram_2, 39378)"
     ],
     "language": "python",
     "metadata": {},
     "outputs": [
      {
       "output_type": "pyout",
       "prompt_number": 123,
       "text": [
        "41788"
       ]
      }
     ],
     "prompt_number": 123
    },
    {
     "cell_type": "code",
     "collapsed": false,
     "input": [
      "hard_times_raw_text.find(five_gram_2, 41789)"
     ],
     "language": "python",
     "metadata": {},
     "outputs": [
      {
       "output_type": "pyout",
       "prompt_number": 124,
       "text": [
        "58759"
       ]
      }
     ],
     "prompt_number": 124
    },
    {
     "cell_type": "code",
     "collapsed": false,
     "input": [
      "hard_times_raw_text.find(five_gram_2, 58760)"
     ],
     "language": "python",
     "metadata": {},
     "outputs": [
      {
       "output_type": "pyout",
       "prompt_number": 125,
       "text": [
        "476235"
       ]
      }
     ],
     "prompt_number": 125
    },
    {
     "cell_type": "code",
     "collapsed": false,
     "input": [
      "hard_times_raw_text.find(five_gram_2, 476236)"
     ],
     "language": "python",
     "metadata": {},
     "outputs": [
      {
       "output_type": "pyout",
       "prompt_number": 126,
       "text": [
        "514354"
       ]
      }
     ],
     "prompt_number": 126
    },
    {
     "cell_type": "code",
     "collapsed": false,
     "input": [
      "hard_times_raw_text.find(five_gram_2, 514355)"
     ],
     "language": "python",
     "metadata": {},
     "outputs": [
      {
       "output_type": "pyout",
       "prompt_number": 127,
       "text": [
        "-1"
       ]
      }
     ],
     "prompt_number": 127
    },
    {
     "cell_type": "markdown",
     "metadata": {},
     "source": [
      "Now we will try to reproduce Table 3.3 on p.47 of [MM]."
     ]
    },
    {
     "cell_type": "code",
     "collapsed": false,
     "input": [
      "DC_bigrams = []\n",
      "for t in DC_tokens:\n",
      "    DC_bigrams += nltk.ngrams((w for w in t if w.isalpha()), 2)"
     ],
     "language": "python",
     "metadata": {},
     "outputs": [],
     "prompt_number": 136
    },
    {
     "cell_type": "code",
     "collapsed": false,
     "input": [
      "DC_D = {}\n",
      "for gram in DC_bigrams:\n",
      "    if not DC_D.get(gram):\n",
      "        DC_D[gram] = 1\n",
      "    else:\n",
      "        DC_D[gram] += 1"
     ],
     "language": "python",
     "metadata": {},
     "outputs": [],
     "prompt_number": 138
    },
    {
     "cell_type": "code",
     "collapsed": false,
     "input": [
      "for gram in DC_D.keys():\n",
      "    if DC_D[gram] > 500:\n",
      "        print ' '.join(gram), DC_D[gram]"
     ],
     "language": "python",
     "metadata": {},
     "outputs": [
      {
       "output_type": "stream",
       "stream": "stdout",
       "text": [
        "to be 848\n",
        "that I 885\n",
        "at the 529\n",
        "with a 613\n",
        "it was 578\n",
        "my aunt 631\n",
        "I am 653\n",
        "I was 950\n",
        "to me 616\n",
        "on the 660\n",
        "of the"
       ]
      },
      {
       "output_type": "stream",
       "stream": "stdout",
       "text": [
        " 1392\n",
        "to the 762\n",
        "in a 694\n",
        "and I 668\n",
        "I have 639\n",
        "in the 1521\n",
        "of my 546\n",
        "I had 904\n"
       ]
      }
     ],
     "prompt_number": 139
    },
    {
     "cell_type": "code",
     "collapsed": false,
     "input": [
      "DC_trigrams = []\n",
      "for t in DC_tokens:\n",
      "    DC_trigrams += nltk.ngrams((w for w in t if w.isalpha()), 3)"
     ],
     "language": "python",
     "metadata": {},
     "outputs": [],
     "prompt_number": 140
    },
    {
     "cell_type": "code",
     "collapsed": false,
     "input": [
      "DC_D_3 = {}\n",
      "for gram in DC_trigrams:\n",
      "    if not DC_D_3.get(gram):\n",
      "        DC_D_3[gram] = 1\n",
      "    else:\n",
      "        DC_D_3[gram] += 1"
     ],
     "language": "python",
     "metadata": {},
     "outputs": [],
     "prompt_number": 141
    },
    {
     "cell_type": "code",
     "collapsed": false,
     "input": [
      "for gram in DC_D_3.keys():\n",
      "    if DC_D_3[gram] > 60:\n",
      "        print ' '.join(gram), DC_D_3[gram]"
     ],
     "language": "python",
     "metadata": {},
     "outputs": [
      {
       "output_type": "stream",
       "stream": "stdout",
       "text": [
        "I had been 88\n",
        "said my aunt 219\n",
        "that it was 83\n",
        "I can not 62\n",
        "I should have 71\n",
        "out of the 124\n",
        "that she was"
       ]
      },
      {
       "output_type": "stream",
       "stream": "stdout",
       "text": [
        " 61\n",
        "that I was 124\n",
        "I am sure 88\n",
        "a good deal 71\n",
        "one of the"
       ]
      },
      {
       "output_type": "stream",
       "stream": "stdout",
       "text": [
        " 65\n",
        "if I had 82\n",
        "as if he 81\n",
        "would have been 62\n",
        "that I had"
       ]
      },
      {
       "output_type": "stream",
       "stream": "stdout",
       "text": [
        " 90\n",
        "I am not 65\n",
        "I could not 125\n",
        "I do know 102\n",
        "there was a 73\n"
       ]
      }
     ],
     "prompt_number": 142
    },
    {
     "cell_type": "code",
     "collapsed": false,
     "input": [
      "DC_fourgrams = []\n",
      "for t in DC_tokens:\n",
      "    DC_fourgrams += nltk.ngrams((w for w in t if w.isalpha()), 4)"
     ],
     "language": "python",
     "metadata": {},
     "outputs": [],
     "prompt_number": 144
    },
    {
     "cell_type": "code",
     "collapsed": false,
     "input": [
      "DC_D_4 = {}\n",
      "for gram in DC_fourgrams:\n",
      "    if not DC_D_4.get(gram):\n",
      "        DC_D_4[gram] = 1\n",
      "    else:\n",
      "        DC_D_4[gram] += 1"
     ],
     "language": "python",
     "metadata": {},
     "outputs": [],
     "prompt_number": 145
    },
    {
     "cell_type": "code",
     "collapsed": false,
     "input": [
      "for gram in DC_D_4.keys():\n",
      "    if DC_D_4[gram] > 18:\n",
      "        print ' '.join(gram), DC_D_4[gram]"
     ],
     "language": "python",
     "metadata": {},
     "outputs": [
      {
       "output_type": "stream",
       "stream": "stdout",
       "text": [
        "as well as I 22\n",
        "for a long time 22\n",
        "as if he were 30\n",
        "as if he had 19\n",
        "I have no doubt"
       ]
      },
      {
       "output_type": "stream",
       "stream": "stdout",
       "text": [
        " 27\n",
        "in the course of 28\n",
        "it would have been"
       ]
      },
      {
       "output_type": "stream",
       "stream": "stdout",
       "text": [
        " 22\n",
        "a good deal of 28\n",
        "in a state of 23\n",
        "I could not help"
       ]
      },
      {
       "output_type": "stream",
       "stream": "stdout",
       "text": [
        " 32\n",
        "if I had been"
       ]
      },
      {
       "output_type": "stream",
       "stream": "stdout",
       "text": [
        " 19\n",
        "I am sure I 26\n",
        "as if it were 28\n",
        "as if I had 25\n",
        "for a little while 23\n",
        "I do know what 31\n"
       ]
      }
     ],
     "prompt_number": 149
    },
    {
     "cell_type": "markdown",
     "metadata": {},
     "source": [
      "By comparison with [MM] there is a problem in how I am handling punctuation. For example, I record the most frequent four gram as \"I do know what\" but in [MM] it is \"I don't know what\"."
     ]
    },
    {
     "cell_type": "code",
     "collapsed": false,
     "input": [
      "david_copperfield_raw_text.find(\"I do know what\")"
     ],
     "language": "python",
     "metadata": {},
     "outputs": [
      {
       "output_type": "pyout",
       "prompt_number": 163,
       "text": [
        "-1"
       ]
      }
     ],
     "prompt_number": 163
    },
    {
     "cell_type": "code",
     "collapsed": false,
     "input": [
      "david_copperfield_raw_text.find(\"I don't know what\")"
     ],
     "language": "python",
     "metadata": {},
     "outputs": [
      {
       "output_type": "pyout",
       "prompt_number": 151,
       "text": [
        "19264"
       ]
      }
     ],
     "prompt_number": 151
    },
    {
     "cell_type": "code",
     "collapsed": false,
     "input": [
      "print david_copperfield_raw_text[19264:19296]"
     ],
     "language": "python",
     "metadata": {},
     "outputs": [
      {
       "output_type": "stream",
       "stream": "stdout",
       "text": [
        "I don't know what's the\r\n",
        "matter.\n"
       ]
      }
     ],
     "prompt_number": 162
    },
    {
     "cell_type": "markdown",
     "metadata": {},
     "source": [
      "At the very least I ought to reduce all text to lowercase, as done in [MM]."
     ]
    },
    {
     "cell_type": "markdown",
     "metadata": {},
     "source": [
      "### Finding suspended quotations\n",
      "\n",
      "We begin with an extract."
     ]
    },
    {
     "cell_type": "code",
     "collapsed": false,
     "input": [
      "test_extract = sents[1024: 1037]"
     ],
     "language": "python",
     "metadata": {},
     "outputs": [],
     "prompt_number": 40
    },
    {
     "cell_type": "code",
     "collapsed": false,
     "input": [
      "print ' '.join(test_extract)"
     ],
     "language": "python",
     "metadata": {},
     "outputs": [
      {
       "output_type": "stream",
       "stream": "stdout",
       "text": [
        "Then, withdrawing\r\n",
        "his hand and swallowing his mouthful of chop, he said to Stephen:\r\n",
        "\r\n",
        "\u2018Now you know, this good lady is a born lady, a high lady. You are not\r\n",
        "to suppose because she keeps my house for me, that she hasn\u2019t been very\r\n",
        "high up the tree\u2014ah, up at the top of the tree! Now, if you have got\r\n",
        "anything to say that can\u2019t be said before a born lady, this lady will\r\n",
        "leave the room. If what you have got to say _can_ be said before a born\r\n",
        "lady, this lady will stay where she is.\u2019\r\n",
        "\r\n",
        "\u2018Sir, I hope I never had nowt to say, not fitten for a born lady to year,\r\n",
        "sin\u2019 I were born mysen\u2019,\u2019 was the reply, accompanied with a slight flush. \u2018Very well,\u2019 said Mr. Bounderby, pushing away his plate, and leaning\r\n",
        "back. \u2018Fire away!\u2019\r\n",
        "\r\n",
        "\u2018I ha\u2019 coom,\u2019 Stephen began, raising his eyes from the floor, after a\r\n",
        "moment\u2019s consideration, \u2018to ask yo yor advice. I need \u2019t overmuch. I\r\n",
        "were married on Eas\u2019r Monday nineteen year sin, long and dree. She were\r\n",
        "a young lass\u2014pretty enow\u2014wi\u2019 good accounts of herseln. Well! She went\r\n",
        "bad\u2014soon. Not along of me. Gonnows I were not a unkind husband to her.\u2019\r\n",
        "\r\n",
        "\u2018I have heard all this before,\u2019 said Mr. Bounderby.\n"
       ]
      }
     ],
     "prompt_number": 41
    },
    {
     "cell_type": "markdown",
     "metadata": {},
     "source": [
      "### Interview Task"
     ]
    },
    {
     "cell_type": "code",
     "collapsed": false,
     "input": [
      "import codecs, nltk\n",
      "little_dorrit_path = \"/home/matthew/workspace/resources/C/Corpus Stylistics/Dickens, Charles/pg963.txt\"\n",
      "f = codecs.open(little_dorrit_path, encoding = 'utf-8')\n",
      "little_dorrit_file = codecs.open(little_dorrit_path, encoding = 'utf-8')"
     ],
     "language": "python",
     "metadata": {},
     "outputs": [],
     "prompt_number": 2
    },
    {
     "cell_type": "code",
     "collapsed": false,
     "input": [
      "little_dorrit_raw = little_dorrit_file.read()"
     ],
     "language": "python",
     "metadata": {},
     "outputs": [],
     "prompt_number": 3
    },
    {
     "cell_type": "code",
     "collapsed": false,
     "input": [
      "len(little_dorrit_raw)"
     ],
     "language": "python",
     "metadata": {},
     "outputs": [
      {
       "output_type": "pyout",
       "prompt_number": 4,
       "text": [
        "1936177"
       ]
      }
     ],
     "prompt_number": 4
    },
    {
     "cell_type": "code",
     "collapsed": false,
     "input": [
      "little_dorrit_raw.find(u'At the close of this recital')"
     ],
     "language": "python",
     "metadata": {},
     "outputs": [
      {
       "output_type": "pyout",
       "prompt_number": 5,
       "text": [
        "1725461"
       ]
      }
     ],
     "prompt_number": 5
    },
    {
     "cell_type": "code",
     "collapsed": false,
     "input": [
      "end_phrase = 'producing the money.'\n",
      "little_dorrit_raw.find(end_phrase)"
     ],
     "language": "python",
     "metadata": {},
     "outputs": [
      {
       "output_type": "pyout",
       "prompt_number": 9,
       "text": [
        "1727185"
       ]
      }
     ],
     "prompt_number": 9
    },
    {
     "cell_type": "code",
     "collapsed": false,
     "input": [
      "task_string = little_dorrit_raw[1725461:1727185 + len(end_phrase)]\n",
      "print task_string"
     ],
     "language": "python",
     "metadata": {},
     "outputs": [
      {
       "output_type": "stream",
       "stream": "stdout",
       "text": [
        "At the close of this recital, Arthur turned his eyes upon the impudent\r\n",
        "and wicked face. As it met his, the nose came down over the moustache\r\n",
        "and the moustache went up under the nose. When nose and moustache had\r\n",
        "settled into their places again, Monsieur Rigaud loudly snapped his\r\n",
        "fingers half-a-dozen times; bending forward to jerk the snaps at Arthur,\r\n",
        "as if they were palpable missiles which he jerked into his face.\r\n",
        "\r\n",
        "'Now, Philosopher!' said Rigaud.'What do you want with me?'\r\n",
        "\r\n",
        "'I want to know,' returned Arthur, without disguising his abhorrence,\r\n",
        "'how you dare direct a suspicion of murder against my mother's house?'\r\n",
        "\r\n",
        "'Dare!' cried Rigaud. 'Ho, ho! Hear him! Dare? Is it dare? By Heaven, my\r\n",
        "small boy, but you are a little imprudent!'\r\n",
        "\r\n",
        "'I want that suspicion to be cleared away,' said Arthur. 'You shall\r\n",
        "be taken there, and be publicly seen. I want to know, moreover,\r\n",
        "what business you had there when I had a burning desire to fling you\r\n",
        "down-stairs. Don't frown at me, man! I have seen enough of you to know\r\n",
        "that you are a bully and coward. I need no revival of my spirits from\r\n",
        "the effects of this wretched place to tell you so plain a fact, and one\r\n",
        "that you know so well.'\r\n",
        "\r\n",
        "White to the lips, Rigaud stroked his moustache, muttering, 'By Heaven,\r\n",
        "my small boy, but you are a little compromising of my lady, your\r\n",
        "respectable mother'--and seemed for a minute undecided how to act.\r\n",
        "His indecision was soon gone. He sat himself down with a threatening\r\n",
        "swagger, and said:\r\n",
        "\r\n",
        "'Give me a bottle of wine. You can buy wine here. Send one of your\r\n",
        "madmen to get me a bottle of wine. I won't talk to you without wine.\r\n",
        "Come! Yes or no?'\r\n",
        "\r\n",
        "'Fetch him what he wants, Cavalletto,' said Arthur, scornfully,\r\n",
        "producing the money.\n"
       ]
      }
     ],
     "prompt_number": 106
    },
    {
     "cell_type": "code",
     "collapsed": false,
     "input": [
      "import re\n",
      "\n",
      "re_1 = r\"'[^']+'\"\n",
      "re_2 = r\"'[a-zA-Z0-9_,!? ]+(?:[-'][a-zA-Z0-9_,!? ]+)*'\"\n",
      "re_3 = r\"'[^']+[\\.,!?]'\"\n",
      "\n",
      "nltk.re_show(re_1, task_string[423:])"
     ],
     "language": "python",
     "metadata": {},
     "outputs": [
      {
       "output_type": "stream",
       "stream": "stdout",
       "text": [
        "\r\n",
        "{'Now, Philosopher!'} said Rigaud.{'What do you want with me?'}\r\n",
        "\r\n",
        "{'I want to know,'} returned Arthur, without disguising his abhorrence,\r\n",
        "{'how you dare direct a suspicion of murder against my mother'}s house?{'\r\n",
        "\r\n",
        "'}Dare!{' cried Rigaud. '}Ho, ho! Hear him! Dare? Is it dare? By Heaven, my\r\n",
        "small boy, but you are a little imprudent!{'\r\n",
        "\r\n",
        "'}I want that suspicion to be cleared away,{' said Arthur. '}You shall\r\n",
        "be taken there, and be publicly seen. I want to know, moreover,\r\n",
        "what business you had there when I had a burning desire to fling you\r\n",
        "down-stairs. Don{'t frown at me, man! I have seen enough of you to know\r\n",
        "that you are a bully and coward. I need no revival of my spirits from\r\n",
        "the effects of this wretched place to tell you so plain a fact, and one\r\n",
        "that you know so well.'}\r\n",
        "\r\n",
        "White to the lips, Rigaud stroked his moustache, muttering, {'By Heaven,\r\n",
        "my small boy, but you are a little compromising of my lady, your\r\n",
        "respectable mother'}--and seemed for a minute undecided how to act.\r\n",
        "His indecision was soon gone. He sat himself down with a threatening\r\n",
        "swagger, and said:\r\n",
        "\r\n",
        "{'Give me a bottle of wine. You can buy wine here. Send one of your\r\n",
        "madmen to get me a bottle of wine. I won'}t talk to you without wine.\r\n",
        "Come! Yes or no?{'\r\n",
        "\r\n",
        "'}Fetch him what he wants, Cavalletto,' said Arthur, scornfully,\r\n",
        "producing the money.\n"
       ]
      }
     ],
     "prompt_number": 397
    },
    {
     "cell_type": "code",
     "collapsed": false,
     "input": [
      "re.findall(re_1, task_string)"
     ],
     "language": "python",
     "metadata": {},
     "outputs": [
      {
       "output_type": "pyout",
       "prompt_number": 396,
       "text": [
        "[u\"'Now, Philosopher!'\",\n",
        " u\"'What do you want with me?'\",\n",
        " u\"'I want to know,'\",\n",
        " u\"'how you dare direct a suspicion of murder against my mother'\",\n",
        " u\"'\\r\\n\\r\\n'\",\n",
        " u\"' cried Rigaud. '\",\n",
        " u\"'\\r\\n\\r\\n'\",\n",
        " u\"' said Arthur. '\",\n",
        " u\"'t frown at me, man! I have seen enough of you to know\\r\\nthat you are a bully and coward. I need no revival of my spirits from\\r\\nthe effects of this wretched place to tell you so plain a fact, and one\\r\\nthat you know so well.'\",\n",
        " u\"'By Heaven,\\r\\nmy small boy, but you are a little compromising of my lady, your\\r\\nrespectable mother'\",\n",
        " u\"'Give me a bottle of wine. You can buy wine here. Send one of your\\r\\nmadmen to get me a bottle of wine. I won'\",\n",
        " u\"'\\r\\n\\r\\n'\"]"
       ]
      }
     ],
     "prompt_number": 396
    },
    {
     "cell_type": "markdown",
     "metadata": {},
     "source": [
      "### Using the NLTK built-in corpus reader (optional)"
     ]
    },
    {
     "cell_type": "code",
     "collapsed": false,
     "input": [
      "from nltk.corpus import PlaintextCorpusReader\n",
      "corpus_root = \"/home/matthew/workspace/resources/C/Corpus Stylistics/Dickens, Charles\"\n",
      "wordlists = PlaintextCorpusReader(corpus_root, '.*')\n",
      "wordlists.fileids()"
     ],
     "language": "python",
     "metadata": {},
     "outputs": [
      {
       "output_type": "pyout",
       "prompt_number": 290,
       "text": [
        "['786-0.txt',\n",
        " 'pg1023.txt',\n",
        " 'pg580.txt',\n",
        " 'pg730.txt',\n",
        " 'pg766.txt',\n",
        " 'pg963.txt',\n",
        " 'pg967.txt']"
       ]
      }
     ],
     "prompt_number": 290
    },
    {
     "cell_type": "code",
     "collapsed": false,
     "input": [],
     "language": "python",
     "metadata": {},
     "outputs": [],
     "prompt_number": 42
    },
    {
     "cell_type": "code",
     "collapsed": false,
     "input": [
      "len(hard_times_sents_raw)"
     ],
     "language": "python",
     "metadata": {},
     "outputs": [
      {
       "ename": "NameError",
       "evalue": "name 'hard_times_sents_raw' is not defined",
       "output_type": "pyerr",
       "traceback": [
        "\u001b[1;31m---------------------------------------------------------------------------\u001b[0m\n\u001b[1;31mNameError\u001b[0m                                 Traceback (most recent call last)",
        "\u001b[1;32m<ipython-input-43-f401c44dc2d0>\u001b[0m in \u001b[0;36m<module>\u001b[1;34m()\u001b[0m\n\u001b[1;32m----> 1\u001b[1;33m \u001b[0mlen\u001b[0m\u001b[1;33m(\u001b[0m\u001b[0mhard_times_sents_raw\u001b[0m\u001b[1;33m)\u001b[0m\u001b[1;33m\u001b[0m\u001b[0m\n\u001b[0m",
        "\u001b[1;31mNameError\u001b[0m: name 'hard_times_sents_raw' is not defined"
       ]
      }
     ],
     "prompt_number": 43
    },
    {
     "cell_type": "code",
     "collapsed": false,
     "input": [
      "a = 0\n",
      "for sentence in hard_times_sents_raw:\n",
      "    a += len(sentence)\n",
      "print a"
     ],
     "language": "python",
     "metadata": {},
     "outputs": []
    },
    {
     "cell_type": "code",
     "collapsed": false,
     "input": [
      "import re\n",
      "s = hard_times_sents_raw[1000]\n",
      "# re.findall(r'\\W+', sentence)\n",
      "print s"
     ],
     "language": "python",
     "metadata": {},
     "outputs": []
    },
    {
     "cell_type": "markdown",
     "metadata": {},
     "source": [
      "### Removing extraneous text (optional)\n",
      "\n",
      "In this section I show how to remove extraneous text from the raw string for \"Hard Times\". This is done by hand by first identifying the first and last sentences of the text. There are some issue about Unicode that I haven't yet resolved."
     ]
    },
    {
     "cell_type": "code",
     "collapsed": false,
     "input": [
      "hard_times_first_sentence = '\\xe2 \\x80\\x98 NOW , what I want is , Facts .'\n",
      "hard_times_first_sentence.split() in hard_times_sents_raw"
     ],
     "language": "python",
     "metadata": {},
     "outputs": []
    },
    {
     "cell_type": "code",
     "collapsed": false,
     "input": [
      "first_sentence_index = hard_times_sents_raw.index(hard_times_first_sentence.split())"
     ],
     "language": "python",
     "metadata": {},
     "outputs": []
    },
    {
     "cell_type": "code",
     "collapsed": false,
     "input": [
      "' '.join(hard_times_sents_raw[first_sentence_index])"
     ],
     "language": "python",
     "metadata": {},
     "outputs": []
    },
    {
     "cell_type": "code",
     "collapsed": false,
     "input": [
      "hard_times_last_sentence = 'We shall sit with lighter bosoms on the hearth , to see the ashes of our fires turn gray and cold .'\n",
      "hard_times_last_sentence.split() in hard_times_sents_raw"
     ],
     "language": "python",
     "metadata": {},
     "outputs": []
    },
    {
     "cell_type": "code",
     "collapsed": false,
     "input": [
      "last_sentence_index = hard_times_sents_raw.index(hard_times_last_sentence.split())"
     ],
     "language": "python",
     "metadata": {},
     "outputs": []
    },
    {
     "cell_type": "code",
     "collapsed": false,
     "input": [
      "' '.join(hard_times_sents_raw[last_sentence_index])"
     ],
     "language": "python",
     "metadata": {},
     "outputs": []
    },
    {
     "cell_type": "code",
     "collapsed": false,
     "input": [
      "hard_times_sents = hard_times_sents_raw[first_sentence_index:last_sentence_index + 1]"
     ],
     "language": "python",
     "metadata": {},
     "outputs": []
    },
    {
     "cell_type": "code",
     "collapsed": false,
     "input": [],
     "language": "python",
     "metadata": {},
     "outputs": []
    }
   ],
   "metadata": {}
  }
 ]
}